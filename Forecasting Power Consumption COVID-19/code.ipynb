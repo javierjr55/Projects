{
 "cells": [
  {
   "cell_type": "code",
   "execution_count": 1,
   "metadata": {},
   "outputs": [],
   "source": [
    "#import packages\n",
    "import pandas as pd\n",
    "import numpy as np\n",
    "import matplotlib.pyplot as plt\n",
    "from matplotlib.dates import DateFormatter\n",
    "import datetime\n",
    "import statsmodels.api as sm\n",
    "from statsmodels.tsa.stattools import adfuller\n",
    "from statsmodels.tsa.arima_model import ARIMA\n",
    "from statsmodels.tsa.seasonal import seasonal_decompose\n",
    "\n",
    "import pmdarima\n",
    "from pmdarima.arima import auto_arima\n",
    "\n",
    "from sklearn.metrics import mean_squared_error\n",
    "from sklearn.metrics import r2_score\n",
    "from sklearn.metrics import mean_absolute_error\n",
    "\n",
    "import warnings\n",
    "warnings.filterwarnings(\"ignore\")\n",
    "# from datetime import datetime as dt\n",
    "\n",
    "# declare beginning and end of series\n",
    "start_date = datetime.datetime(year=2015, month=3, day=19)\n",
    "end_date = datetime.datetime(year=2020, month=5, day=26)"
   ]
  },
  {
   "cell_type": "markdown",
   "metadata": {},
   "source": [
    "# Load in Data\n",
    "## Unemployment Data"
   ]
  },
  {
   "cell_type": "code",
   "execution_count": 2,
   "metadata": {},
   "outputs": [
    {
     "data": {
      "text/html": [
       "<div>\n",
       "<style scoped>\n",
       "    .dataframe tbody tr th:only-of-type {\n",
       "        vertical-align: middle;\n",
       "    }\n",
       "\n",
       "    .dataframe tbody tr th {\n",
       "        vertical-align: top;\n",
       "    }\n",
       "\n",
       "    .dataframe thead th {\n",
       "        text-align: right;\n",
       "    }\n",
       "</style>\n",
       "<table border=\"1\" class=\"dataframe\">\n",
       "  <thead>\n",
       "    <tr style=\"text-align: right;\">\n",
       "      <th></th>\n",
       "      <th>new_claims</th>\n",
       "    </tr>\n",
       "    <tr>\n",
       "      <th>Date</th>\n",
       "      <th></th>\n",
       "    </tr>\n",
       "  </thead>\n",
       "  <tbody>\n",
       "    <tr>\n",
       "      <th>2020-05-22</th>\n",
       "      <td>7489</td>\n",
       "    </tr>\n",
       "    <tr>\n",
       "      <th>2020-05-23</th>\n",
       "      <td>3600</td>\n",
       "    </tr>\n",
       "    <tr>\n",
       "      <th>2020-05-24</th>\n",
       "      <td>7052</td>\n",
       "    </tr>\n",
       "    <tr>\n",
       "      <th>2020-05-25</th>\n",
       "      <td>5034</td>\n",
       "    </tr>\n",
       "    <tr>\n",
       "      <th>2020-05-26</th>\n",
       "      <td>8264</td>\n",
       "    </tr>\n",
       "  </tbody>\n",
       "</table>\n",
       "</div>"
      ],
      "text/plain": [
       "            new_claims\n",
       "Date                  \n",
       "2020-05-22        7489\n",
       "2020-05-23        3600\n",
       "2020-05-24        7052\n",
       "2020-05-25        5034\n",
       "2020-05-26        8264"
      ]
     },
     "execution_count": 2,
     "metadata": {},
     "output_type": "execute_result"
    }
   ],
   "source": [
    "# load unemployment data\n",
    "claims = pd.read_csv(r'C:\\Users\\javie\\OneDrive\\Documents\\Academics\\SMU\\MSDS 6120 - Capstone\\Code\\claims.csv', header = [0], sep = ',', parse_dates = ['Date'])\n",
    "claims.set_index('Date',inplace=True)\n",
    "claims.tail()"
   ]
  },
  {
   "cell_type": "markdown",
   "metadata": {},
   "source": [
    "## COVID-19 Data"
   ]
  },
  {
   "cell_type": "code",
   "execution_count": 3,
   "metadata": {},
   "outputs": [
    {
     "data": {
      "text/html": [
       "<div>\n",
       "<style scoped>\n",
       "    .dataframe tbody tr th:only-of-type {\n",
       "        vertical-align: middle;\n",
       "    }\n",
       "\n",
       "    .dataframe tbody tr th {\n",
       "        vertical-align: top;\n",
       "    }\n",
       "\n",
       "    .dataframe thead th {\n",
       "        text-align: right;\n",
       "    }\n",
       "</style>\n",
       "<table border=\"1\" class=\"dataframe\">\n",
       "  <thead>\n",
       "    <tr style=\"text-align: right;\">\n",
       "      <th></th>\n",
       "      <th>new_deaths</th>\n",
       "      <th>new_cases</th>\n",
       "    </tr>\n",
       "    <tr>\n",
       "      <th>date</th>\n",
       "      <th></th>\n",
       "      <th></th>\n",
       "    </tr>\n",
       "  </thead>\n",
       "  <tbody>\n",
       "    <tr>\n",
       "      <th>2020-06-21</th>\n",
       "      <td>5.0</td>\n",
       "      <td>346.0</td>\n",
       "    </tr>\n",
       "    <tr>\n",
       "      <th>2020-06-22</th>\n",
       "      <td>3.0</td>\n",
       "      <td>642.0</td>\n",
       "    </tr>\n",
       "    <tr>\n",
       "      <th>2020-06-23</th>\n",
       "      <td>36.0</td>\n",
       "      <td>617.0</td>\n",
       "    </tr>\n",
       "    <tr>\n",
       "      <th>2020-06-24</th>\n",
       "      <td>57.0</td>\n",
       "      <td>492.0</td>\n",
       "    </tr>\n",
       "    <tr>\n",
       "      <th>2020-06-25</th>\n",
       "      <td>34.0</td>\n",
       "      <td>455.0</td>\n",
       "    </tr>\n",
       "  </tbody>\n",
       "</table>\n",
       "</div>"
      ],
      "text/plain": [
       "            new_deaths  new_cases\n",
       "date                             \n",
       "2020-06-21         5.0      346.0\n",
       "2020-06-22         3.0      642.0\n",
       "2020-06-23        36.0      617.0\n",
       "2020-06-24        57.0      492.0\n",
       "2020-06-25        34.0      455.0"
      ]
     },
     "execution_count": 3,
     "metadata": {},
     "output_type": "execute_result"
    }
   ],
   "source": [
    "# load data\n",
    "url = 'https://raw.githubusercontent.com/nytimes/covid-19-data/master/us-counties.csv'\n",
    "covid = pd.read_csv(url, header = [0], sep = ',', parse_dates = ['date'])\n",
    "\n",
    "# separate only PA data\n",
    "covid = covid[covid['state']=='Pennsylvania']\n",
    "\n",
    "# create master df\n",
    "covid = covid.pivot(index='date', columns='county', values=['cases', 'deaths'])\n",
    "\n",
    "# fill nulls w/ 0\n",
    "covid = covid.fillna(0)\n",
    "\n",
    "# create subsets df\n",
    "covid_cases = covid['cases']\n",
    "covid_deaths = covid['deaths']\n",
    "\n",
    "# join levels in columns from 2 to 1\n",
    "covid.columns = ['_'.join(col) for col in covid.columns]\n",
    "\n",
    "# total cases and deaths\n",
    "covid['total_cases_deaths'] = covid.sum(axis=1)\n",
    "# new cases and deaths\n",
    "covid['new_cases_deaths'] = covid.total_cases_deaths.diff()\n",
    "\n",
    "# merge total and new cases into main df\n",
    "covid['total_cases'] = covid_cases.sum(axis=1)\n",
    "covid['new_cases'] = covid.total_cases.diff()\n",
    "\n",
    "# merge total and new deaths into main df\n",
    "covid['total_deaths'] = covid_deaths.sum(axis=1)\n",
    "covid['new_deaths'] = covid.total_deaths.diff()\n",
    "\n",
    "# fill nulls in first row w/ 0\n",
    "covid = covid.fillna(0)\n",
    "\n",
    "covid = covid[['new_deaths','new_cases']]\n",
    "covid.tail()"
   ]
  },
  {
   "cell_type": "markdown",
   "metadata": {},
   "source": [
    "## Peak Load Power Consumption"
   ]
  },
  {
   "cell_type": "code",
   "execution_count": 4,
   "metadata": {},
   "outputs": [
    {
     "data": {
      "text/html": [
       "<div>\n",
       "<style scoped>\n",
       "    .dataframe tbody tr th:only-of-type {\n",
       "        vertical-align: middle;\n",
       "    }\n",
       "\n",
       "    .dataframe tbody tr th {\n",
       "        vertical-align: top;\n",
       "    }\n",
       "\n",
       "    .dataframe thead th {\n",
       "        text-align: right;\n",
       "    }\n",
       "</style>\n",
       "<table border=\"1\" class=\"dataframe\">\n",
       "  <thead>\n",
       "    <tr style=\"text-align: right;\">\n",
       "      <th></th>\n",
       "      <th>Load</th>\n",
       "      <th>Avg.Temp</th>\n",
       "      <th>Max</th>\n",
       "      <th>Avg</th>\n",
       "      <th>Min</th>\n",
       "    </tr>\n",
       "    <tr>\n",
       "      <th>Date</th>\n",
       "      <th></th>\n",
       "      <th></th>\n",
       "      <th></th>\n",
       "      <th></th>\n",
       "      <th></th>\n",
       "    </tr>\n",
       "  </thead>\n",
       "  <tbody>\n",
       "    <tr>\n",
       "      <th>2020-05-22</th>\n",
       "      <td>4173</td>\n",
       "      <td>62.9</td>\n",
       "      <td>66</td>\n",
       "      <td>62.9</td>\n",
       "      <td>52</td>\n",
       "    </tr>\n",
       "    <tr>\n",
       "      <th>2020-05-23</th>\n",
       "      <td>3861</td>\n",
       "      <td>66.2</td>\n",
       "      <td>73</td>\n",
       "      <td>66.2</td>\n",
       "      <td>59</td>\n",
       "    </tr>\n",
       "    <tr>\n",
       "      <th>2020-05-24</th>\n",
       "      <td>3604</td>\n",
       "      <td>61.9</td>\n",
       "      <td>71</td>\n",
       "      <td>61.9</td>\n",
       "      <td>55</td>\n",
       "    </tr>\n",
       "    <tr>\n",
       "      <th>2020-05-25</th>\n",
       "      <td>3708</td>\n",
       "      <td>63.9</td>\n",
       "      <td>77</td>\n",
       "      <td>63.9</td>\n",
       "      <td>56</td>\n",
       "    </tr>\n",
       "    <tr>\n",
       "      <th>2020-05-26</th>\n",
       "      <td>4857</td>\n",
       "      <td>70.2</td>\n",
       "      <td>84</td>\n",
       "      <td>70.2</td>\n",
       "      <td>58</td>\n",
       "    </tr>\n",
       "  </tbody>\n",
       "</table>\n",
       "</div>"
      ],
      "text/plain": [
       "            Load  Avg.Temp  Max   Avg  Min\n",
       "Date                                      \n",
       "2020-05-22  4173      62.9   66  62.9   52\n",
       "2020-05-23  3861      66.2   73  66.2   59\n",
       "2020-05-24  3604      61.9   71  61.9   55\n",
       "2020-05-25  3708      63.9   77  63.9   56\n",
       "2020-05-26  4857      70.2   84  70.2   58"
      ]
     },
     "execution_count": 4,
     "metadata": {},
     "output_type": "execute_result"
    }
   ],
   "source": [
    "load = pd.read_csv('Load.csv', header = [0], sep = ',', parse_dates = ['Date'])\n",
    "load.set_index('Date',inplace=True)\n",
    "load = load.dropna()\n",
    "# load.head()\n",
    "load.tail()\n",
    "# load.info()"
   ]
  },
  {
   "cell_type": "code",
   "execution_count": 5,
   "metadata": {},
   "outputs": [
    {
     "name": "stdout",
     "output_type": "stream",
     "text": [
      "<class 'pandas.core.frame.DataFrame'>\n",
      "DatetimeIndex: 1896 entries, 2015-03-19 to 2020-05-26\n",
      "Data columns (total 5 columns):\n",
      " #   Column    Non-Null Count  Dtype  \n",
      "---  ------    --------------  -----  \n",
      " 0   Load      1896 non-null   int64  \n",
      " 1   Avg.Temp  1896 non-null   float64\n",
      " 2   Max       1896 non-null   int64  \n",
      " 3   Avg       1896 non-null   float64\n",
      " 4   Min       1896 non-null   int64  \n",
      "dtypes: float64(2), int64(3)\n",
      "memory usage: 88.9 KB\n"
     ]
    }
   ],
   "source": [
    "load.info()"
   ]
  },
  {
   "cell_type": "markdown",
   "metadata": {},
   "source": [
    "# Blend Data"
   ]
  },
  {
   "cell_type": "code",
   "execution_count": 6,
   "metadata": {},
   "outputs": [
    {
     "data": {
      "text/html": [
       "<div>\n",
       "<style scoped>\n",
       "    .dataframe tbody tr th:only-of-type {\n",
       "        vertical-align: middle;\n",
       "    }\n",
       "\n",
       "    .dataframe tbody tr th {\n",
       "        vertical-align: top;\n",
       "    }\n",
       "\n",
       "    .dataframe thead th {\n",
       "        text-align: right;\n",
       "    }\n",
       "</style>\n",
       "<table border=\"1\" class=\"dataframe\">\n",
       "  <thead>\n",
       "    <tr style=\"text-align: right;\">\n",
       "      <th></th>\n",
       "      <th>Load</th>\n",
       "      <th>Max</th>\n",
       "      <th>Avg</th>\n",
       "      <th>Min</th>\n",
       "      <th>new_deaths</th>\n",
       "      <th>new_cases</th>\n",
       "      <th>new_claims</th>\n",
       "    </tr>\n",
       "  </thead>\n",
       "  <tbody>\n",
       "    <tr>\n",
       "      <th>2020-05-22</th>\n",
       "      <td>4173.0</td>\n",
       "      <td>66.0</td>\n",
       "      <td>62.9</td>\n",
       "      <td>52.0</td>\n",
       "      <td>145.0</td>\n",
       "      <td>1053.0</td>\n",
       "      <td>7489.0</td>\n",
       "    </tr>\n",
       "    <tr>\n",
       "      <th>2020-05-23</th>\n",
       "      <td>3861.0</td>\n",
       "      <td>73.0</td>\n",
       "      <td>66.2</td>\n",
       "      <td>59.0</td>\n",
       "      <td>89.0</td>\n",
       "      <td>797.0</td>\n",
       "      <td>3600.0</td>\n",
       "    </tr>\n",
       "    <tr>\n",
       "      <th>2020-05-24</th>\n",
       "      <td>3604.0</td>\n",
       "      <td>71.0</td>\n",
       "      <td>61.9</td>\n",
       "      <td>55.0</td>\n",
       "      <td>24.0</td>\n",
       "      <td>554.0</td>\n",
       "      <td>7052.0</td>\n",
       "    </tr>\n",
       "    <tr>\n",
       "      <th>2020-05-25</th>\n",
       "      <td>3708.0</td>\n",
       "      <td>77.0</td>\n",
       "      <td>63.9</td>\n",
       "      <td>56.0</td>\n",
       "      <td>14.0</td>\n",
       "      <td>700.0</td>\n",
       "      <td>5034.0</td>\n",
       "    </tr>\n",
       "    <tr>\n",
       "      <th>2020-05-26</th>\n",
       "      <td>4857.0</td>\n",
       "      <td>84.0</td>\n",
       "      <td>70.2</td>\n",
       "      <td>58.0</td>\n",
       "      <td>16.0</td>\n",
       "      <td>517.0</td>\n",
       "      <td>8264.0</td>\n",
       "    </tr>\n",
       "  </tbody>\n",
       "</table>\n",
       "</div>"
      ],
      "text/plain": [
       "              Load   Max   Avg   Min  new_deaths  new_cases  new_claims\n",
       "2020-05-22  4173.0  66.0  62.9  52.0       145.0     1053.0      7489.0\n",
       "2020-05-23  3861.0  73.0  66.2  59.0        89.0      797.0      3600.0\n",
       "2020-05-24  3604.0  71.0  61.9  55.0        24.0      554.0      7052.0\n",
       "2020-05-25  3708.0  77.0  63.9  56.0        14.0      700.0      5034.0\n",
       "2020-05-26  4857.0  84.0  70.2  58.0        16.0      517.0      8264.0"
      ]
     },
     "execution_count": 6,
     "metadata": {},
     "output_type": "execute_result"
    }
   ],
   "source": [
    "data = pd.DataFrame()\n",
    "data = load.join(covid, how='outer')\n",
    "data = data.join(claims, how='outer')\n",
    "# data = data.join(holidays, how='outer')\n",
    "\n",
    "data = data[start_date:end_date]\n",
    "data = data.fillna(0)\n",
    "\n",
    "# drop avg\n",
    "data = data.drop(columns=['Avg.Temp'])\n",
    "\n",
    "data = data.asfreq('D')\n",
    "\n",
    "data.tail()"
   ]
  },
  {
   "cell_type": "markdown",
   "metadata": {},
   "source": [
    "# EDA"
   ]
  },
  {
   "cell_type": "markdown",
   "metadata": {},
   "source": [
    "## COVID-19"
   ]
  },
  {
   "cell_type": "code",
   "execution_count": null,
   "metadata": {},
   "outputs": [],
   "source": [
    "plt.figure(figsize=(10,6))\n",
    "plt.plot(covid.new_cases, label = \"New Cases\",  color = 'black', linestyle='solid')\n",
    "plt.plot(covid.new_deaths, label = \"New Deaths\",  color = 'black', linestyle='dashed')\n",
    "plt.title('New COVID-19 Cases & Deaths in Pennsylvania')\n",
    "plt.ylabel('New Instances')\n",
    "plt.xlabel('Date')\n",
    "plt.grid(False)\n",
    "plt.legend()\n",
    "# fig.autofmt_xdate()\n",
    "# plt.hlines(y=0, xmin=np.min(df.date), xmax=np.max(df.date), linewidth=.5)\n",
    "ax = plt.gca()\n",
    "\n",
    "date_form = DateFormatter(\"%m-%d\")\n",
    "ax.xaxis.set_major_formatter(date_form)\n",
    "plt.axvline(pd.to_datetime('2020-04-01'), color = 'black', linestyle = ':')\n",
    "plt.axvline(pd.to_datetime('2020-06-04'), color = 'black', linestyle = ':')\n",
    "\n",
    "plt.xticks(rotation=90)\n",
    "plt.savefig(\"new_covid.png\")\n",
    "plt.show()"
   ]
  },
  {
   "cell_type": "markdown",
   "metadata": {},
   "source": [
    "## Unemployment"
   ]
  },
  {
   "cell_type": "code",
   "execution_count": null,
   "metadata": {},
   "outputs": [],
   "source": [
    "plt.figure(figsize=(10,6))\n",
    "plt.plot(data.index, data.new_claims, label = \"New Claims\",  color = 'black', linestyle='solid')\n",
    "plt.title('New Unemployment Claims in Pennsylvania')\n",
    "plt.ylabel('New Claims')\n",
    "plt.xlabel('Date')\n",
    "plt.grid(False)\n",
    "plt.legend()\n",
    "ax = plt.gca()\n",
    "plt.axvline(pd.to_datetime('2020-04-01'), color = 'black', linestyle = ':')\n",
    "plt.axvline(pd.to_datetime('2020-06-04'), color = 'black', linestyle = ':')\n",
    "\n",
    "# plt.xticks(rotation=90)\n",
    "plt.savefig(\"claims.png\")\n",
    "plt.show()\n"
   ]
  },
  {
   "cell_type": "code",
   "execution_count": null,
   "metadata": {},
   "outputs": [],
   "source": [
    "claims2020 = claims[datetime.datetime(year=2020, month=1, day=1) : datetime.datetime(year=2020, month=5, day=26)]\n",
    "\n",
    "plt.figure(figsize=(10,6))\n",
    "plt.plot(claims2020.index, claims2020.new_claims, label = \"New Claims\",  color = 'black', linestyle='solid')\n",
    "plt.title('New Unemployment Claims in Pennsylvania During 2020')\n",
    "plt.ylabel('New Claims')\n",
    "plt.xlabel('Date')\n",
    "plt.grid(False)\n",
    "plt.legend()\n",
    "ax = plt.gca()\n",
    "plt.axvline(pd.to_datetime('2020-04-01'), color = 'black', linestyle = ':')\n",
    "plt.axvline(pd.to_datetime('2020-06-04'), color = 'black', linestyle = ':')\n",
    "\n",
    "# plt.xticks(rotation=90)\n",
    "plt.savefig(\"2020_claims.png\")\n",
    "plt.show()"
   ]
  },
  {
   "cell_type": "markdown",
   "metadata": {},
   "source": [
    "## Peak Load Power Consumption"
   ]
  },
  {
   "cell_type": "code",
   "execution_count": null,
   "metadata": {},
   "outputs": [],
   "source": [
    "plt.figure(figsize=(15,6))\n",
    "plt.plot(load.index, load.Load, label = \"Power Consumption (mWh)\",  color = 'black', linestyle='solid')\n",
    "plt.title('Transmission Peak Power Consumption in Pennsylvania (2015 - 2020)')\n",
    "plt.ylabel('Megawatt Hours (mWh)')\n",
    "plt.xlabel('Date')\n",
    "plt.grid(False)\n",
    "plt.legend()\n",
    "ax = plt.gca()\n",
    "plt.axvline(pd.to_datetime('2020-04-01'), color = 'black', linestyle = ':')\n",
    "plt.axvline(pd.to_datetime('2020-06-04'), color = 'black', linestyle = ':')\n",
    "\n",
    "# plt.xticks(rotation=90)\n",
    "plt.savefig(\"peak_load.png\")\n",
    "plt.show()"
   ]
  },
  {
   "cell_type": "code",
   "execution_count": null,
   "metadata": {},
   "outputs": [],
   "source": [
    "load2020 = load[datetime.datetime(year=2020, month=1, day=1) : datetime.datetime(year=2020, month=5, day=26)]\n",
    "\n",
    "plt.figure(figsize=(15,6))\n",
    "plt.plot(load2020.index, load2020.Load, label = \"Power Consumption (mWh)\",  color = 'black', linestyle='solid')\n",
    "plt.title('Transmission Peak Power Consumption in Pennsylvania (2020)')\n",
    "plt.ylabel('Megawatt Hours (mWh)')\n",
    "plt.xlabel('Date')\n",
    "plt.grid(False)\n",
    "plt.legend()\n",
    "ax = plt.gca()\n",
    "plt.axvline(pd.to_datetime('2020-04-01'), color = 'black', linestyle = ':')\n",
    "plt.axvline(pd.to_datetime('2020-06-04'), color = 'black', linestyle = ':')\n",
    "\n",
    "# plt.xticks(rotation=90)\n",
    "plt.savefig(\"2020_load.png\")\n",
    "plt.show()"
   ]
  },
  {
   "cell_type": "code",
   "execution_count": null,
   "metadata": {},
   "outputs": [],
   "source": [
    "temp = data[datetime.datetime(year=2019, month=1, day=1) : datetime.datetime(year=2019, month=12, day=31)]\n",
    "\n",
    "plt.figure(figsize=(15,6))\n",
    "plt.plot(temp.index, temp.Load, label = \"Power Consumption (mWh)\",  color = 'black', linestyle='solid')\n",
    "plt.title('Transmission Peak Power Consumption in Pennsylvania (2019)')\n",
    "plt.ylabel('Megawatt Hours (mWh)')\n",
    "plt.xlabel('Date')\n",
    "plt.grid(False)\n",
    "plt.legend()\n",
    "ax = plt.gca()\n",
    "\n",
    "# plt.xticks(rotation=90)\n",
    "plt.savefig(\"2019_load.png\")\n",
    "plt.show()"
   ]
  },
  {
   "cell_type": "code",
   "execution_count": 7,
   "metadata": {},
   "outputs": [],
   "source": [
    "#data.to_csv(r'data.csv', index = True)\n",
    "data = data.drop(columns=['new_deaths'])"
   ]
  },
  {
   "cell_type": "code",
   "execution_count": 8,
   "metadata": {},
   "outputs": [],
   "source": [
    "train_start,train_end = '2015-03-19','2020-04-28'\n",
    "test_start,test_end = '2020-04-29','2020-05-12'\n",
    "preds_start,preds_end = '2020-05-13','2020-05-26'\n",
    "\n",
    "train = data['Load'][train_start:train_end].dropna()\n",
    "test = data['Load'][test_start:test_end].dropna()\n",
    "preds = data['Load'][preds_start:preds_end].dropna()\n",
    "\n",
    "exog_train = data.drop(['Load'],axis = 1)[train_start:train_end].dropna()\n",
    "exog_test = data.drop(['Load'],axis = 1)[test_start:test_end].dropna()\n",
    "exog_pred = data.drop(['Load'],axis = 1)[preds_start:preds_end].dropna()"
   ]
  },
  {
   "cell_type": "code",
   "execution_count": 9,
   "metadata": {},
   "outputs": [],
   "source": [
    "exog_train = np.asarray(exog_train)\n",
    "exog_test = np.asarray(exog_test)\n",
    "exog_pred = np.asarray(exog_pred)"
   ]
  },
  {
   "cell_type": "code",
   "execution_count": 10,
   "metadata": {},
   "outputs": [
    {
     "data": {
      "text/plain": [
       "<matplotlib.legend.Legend at 0x250800de940>"
      ]
     },
     "execution_count": 10,
     "metadata": {},
     "output_type": "execute_result"
    },
    {
     "data": {
      "image/png": "[encoded data removed]",
      "text/plain": [
       "<Figure size 1080x648 with 4 Axes>"
      ]
     },
     "metadata": {
      "needs_background": "light"
     },
     "output_type": "display_data"
    }
   ],
   "source": [
    "decomposition=seasonal_decompose(data['Load'], model='multiplicative')\n",
    "trend=decomposition.trend\n",
    "seasonal=decomposition.seasonal\n",
    "residual=decomposition.resid\n",
    "\n",
    "fig, axs = plt.subplots(4, figsize=(15,9), sharex=True, sharey=False, gridspec_kw={'hspace': .05})\n",
    "fig.suptitle('Decomposition of Power Consumption')\n",
    "\n",
    "# Hide x labels and tick labels for all but bottom plot.\n",
    "for ax in axs:\n",
    "    ax.label_outer()\n",
    "\n",
    "axs[0].plot(data['Load'],color='black', label='Series')\n",
    "axs[0].legend(loc='best')\n",
    "\n",
    "axs[1].plot(trend,color='black', label='Trend')\n",
    "axs[1].legend(loc='best')\n",
    "\n",
    "axs[2].plot(residual,color='black', label='Residual')\n",
    "axs[2].legend(loc='best')\n",
    "\n",
    "axs[3].plot(seasonal,color='black', label='Seasonality')\n",
    "axs[3].legend(loc='best')"
   ]
  },
  {
   "cell_type": "code",
   "execution_count": null,
   "metadata": {},
   "outputs": [],
   "source": [
    "#We can see from these results that we will confidently reject the null hypotheis of the dickey fuller test, we can assume this data is stationary.\n",
    "\n",
    "result = adfuller(data['Load'])\n",
    "print('ADF Statistic: {}'.format(result[0]))\n",
    "print('p-value: {}'.format(result[1]))\n",
    "print('Critical Values:')\n",
    "for key, value in result[4].items():\n",
    "    print('\\t{}: {}'.format(key, value))"
   ]
  },
  {
   "cell_type": "code",
   "execution_count": null,
   "metadata": {},
   "outputs": [],
   "source": [
    "# KPSS test\n",
    "from statsmodels.tsa.stattools import kpss\n",
    "def kpss_test(series, **kw):    \n",
    "    statistic, p_value, n_lags, critical_values = kpss(series, **kw)\n",
    "    # Format Output\n",
    "    print(f'KPSS Statistic: {statistic}')\n",
    "    print(f'p-value: {p_value}')\n",
    "    print(f'num lags: {n_lags}')\n",
    "    print('Critial Values:')\n",
    "    for key, value in critical_values.items():\n",
    "        print(f'   {key} : {value}')\n",
    "    print(f'Result: The series is {\"not \" if p_value < 0.05 else \"\"}stationary')\n",
    "\n",
    "kpss_test(data['Load'])"
   ]
  },
  {
   "cell_type": "code",
   "execution_count": 11,
   "metadata": {},
   "outputs": [
    {
     "name": "stdout",
     "output_type": "stream",
     "text": [
      "Performing stepwise search to minimize aic\n",
      "Fit ARIMA(1,1,1)x(0,0,0,0) [intercept=True]; AIC=28009.865, BIC=28031.994, Time=0.653 seconds\n",
      "Fit ARIMA(0,1,0)x(0,0,0,0) [intercept=True]; AIC=28225.850, BIC=28236.914, Time=0.031 seconds\n",
      "Fit ARIMA(1,1,0)x(0,0,0,0) [intercept=True]; AIC=28221.266, BIC=28237.863, Time=0.080 seconds\n",
      "Fit ARIMA(0,1,1)x(0,0,0,0) [intercept=True]; AIC=28212.660, BIC=28229.256, Time=0.130 seconds\n",
      "Fit ARIMA(0,1,0)x(0,0,0,0) [intercept=False]; AIC=28223.857, BIC=28229.389, Time=0.016 seconds\n",
      "Fit ARIMA(2,1,1)x(0,0,0,0) [intercept=True]; AIC=27827.100, BIC=27854.761, Time=0.998 seconds\n",
      "Fit ARIMA(2,1,0)x(0,0,0,0) [intercept=True]; AIC=28042.755, BIC=28064.883, Time=0.117 seconds\n",
      "Fit ARIMA(3,1,1)x(0,0,0,0) [intercept=True]; AIC=27828.466, BIC=27861.658, Time=1.429 seconds\n",
      "Fit ARIMA(2,1,2)x(0,0,0,0) [intercept=True]; AIC=27826.765, BIC=27859.957, Time=1.685 seconds\n",
      "Fit ARIMA(1,1,2)x(0,0,0,0) [intercept=True]; AIC=27838.129, BIC=27865.789, Time=0.960 seconds\n",
      "Fit ARIMA(3,1,2)x(0,0,0,0) [intercept=True]; AIC=27823.041, BIC=27861.766, Time=1.569 seconds\n",
      "Fit ARIMA(4,1,2)x(0,0,0,0) [intercept=True]; AIC=27653.199, BIC=27697.456, Time=2.641 seconds\n",
      "Fit ARIMA(4,1,1)x(0,0,0,0) [intercept=True]; AIC=27791.238, BIC=27829.963, Time=2.058 seconds\n",
      "Fit ARIMA(5,1,2)x(0,0,0,0) [intercept=True]; AIC=27635.837, BIC=27685.626, Time=1.640 seconds\n",
      "Fit ARIMA(5,1,1)x(0,0,0,0) [intercept=True]; AIC=27691.311, BIC=27735.568, Time=0.556 seconds\n",
      "Fit ARIMA(5,1,3)x(0,0,0,0) [intercept=True]; AIC=27466.984, BIC=27522.305, Time=3.093 seconds\n",
      "Fit ARIMA(4,1,3)x(0,0,0,0) [intercept=True]; AIC=27514.315, BIC=27564.104, Time=2.851 seconds\n",
      "Near non-invertible roots for order (4, 1, 3)(0, 0, 0, 0); setting score to inf (at least one inverse root too close to the border of the unit circle: 0.992)\n",
      "Fit ARIMA(5,1,4)x(0,0,0,0) [intercept=True]; AIC=27468.958, BIC=27529.811, Time=3.921 seconds\n",
      "Fit ARIMA(4,1,4)x(0,0,0,0) [intercept=True]; AIC=27501.368, BIC=27556.689, Time=3.195 seconds\n",
      "Total fit time: 27.631 seconds\n"
     ]
    }
   ],
   "source": [
    "#Pyramid Search for Arima Paramaters\n",
    "Arima_model=auto_arima(train, start_p=1, start_q=1, max_p=5, max_q=5, start_P=0, start_Q=0, max_P=0, max_Q=0, seasonal=False, trace=True, d=1, D=0, error_action='warn', suppress_warnings=True, random_state = 20, n_fits=5)"
   ]
  },
  {
   "cell_type": "code",
   "execution_count": 12,
   "metadata": {},
   "outputs": [
    {
     "name": "stdout",
     "output_type": "stream",
     "text": [
      "Performing stepwise search to minimize aic\n",
      "Fit ARIMA(1,1,1)x(1,1,1,7) [intercept=True]; AIC=27095.756, BIC=27128.926, Time=3.202 seconds\n",
      "Fit ARIMA(0,1,0)x(0,1,0,7) [intercept=True]; AIC=28398.391, BIC=28409.448, Time=0.053 seconds\n",
      "Fit ARIMA(1,1,0)x(1,1,0,7) [intercept=True]; AIC=27911.235, BIC=27933.348, Time=1.262 seconds\n",
      "Fit ARIMA(0,1,1)x(0,1,1,7) [intercept=True]; AIC=27241.231, BIC=27263.344, Time=1.481 seconds\n",
      "Near non-invertible roots for order (0, 1, 1)(0, 1, 1, 7); setting score to inf (at least one inverse root too close to the border of the unit circle: 1.000)\n",
      "Fit ARIMA(0,1,0)x(0,1,0,7) [intercept=False]; AIC=28396.409, BIC=28401.937, Time=0.027 seconds\n",
      "Fit ARIMA(1,1,1)x(0,1,1,7) [intercept=True]; AIC=27129.273, BIC=27156.915, Time=5.395 seconds\n",
      "Near non-invertible roots for order (1, 1, 1)(0, 1, 1, 7); setting score to inf (at least one inverse root too close to the border of the unit circle: 1.000)\n",
      "Fit ARIMA(1,1,1)x(1,1,0,7) [intercept=True]; AIC=27671.190, BIC=27698.832, Time=2.226 seconds\n",
      "Near non-invertible roots for order (1, 1, 1)(1, 1, 0, 7); setting score to inf (at least one inverse root too close to the border of the unit circle: 1.000)\n",
      "Fit ARIMA(1,1,1)x(2,1,1,7) [intercept=True]; AIC=27114.758, BIC=27153.456, Time=10.177 seconds\n",
      "Near non-invertible roots for order (1, 1, 1)(2, 1, 1, 7); setting score to inf (at least one inverse root too close to the border of the unit circle: 1.000)\n",
      "Fit ARIMA(1,1,1)x(1,1,2,7) [intercept=True]; AIC=27099.331, BIC=27138.030, Time=14.132 seconds\n",
      "Near non-invertible roots for order (1, 1, 1)(1, 1, 2, 7); setting score to inf (at least one inverse root too close to the border of the unit circle: 0.999)\n",
      "Fit ARIMA(1,1,1)x(0,1,0,7) [intercept=True]; AIC=28121.178, BIC=28143.291, Time=1.131 seconds\n",
      "Near non-invertible roots for order (1, 1, 1)(0, 1, 0, 7); setting score to inf (at least one inverse root too close to the border of the unit circle: 1.000)\n",
      "Fit ARIMA(1,1,1)x(0,1,2,7) [intercept=True]; AIC=27096.124, BIC=27129.294, Time=7.062 seconds\n",
      "Near non-invertible roots for order (1, 1, 1)(0, 1, 2, 7); setting score to inf (at least one inverse root too close to the border of the unit circle: 1.000)\n",
      "Fit ARIMA(1,1,1)x(2,1,0,7) [intercept=True]; AIC=27490.477, BIC=27523.647, Time=5.401 seconds\n",
      "Near non-invertible roots for order (1, 1, 1)(2, 1, 0, 7); setting score to inf (at least one inverse root too close to the border of the unit circle: 1.000)\n",
      "Fit ARIMA(1,1,1)x(2,1,2,7) [intercept=True]; AIC=27098.671, BIC=27142.898, Time=8.849 seconds\n",
      "Near non-invertible roots for order (1, 1, 1)(2, 1, 2, 7); setting score to inf (at least one inverse root too close to the border of the unit circle: 1.000)\n",
      "Fit ARIMA(0,1,1)x(1,1,1,7) [intercept=True]; AIC=27238.361, BIC=27266.002, Time=2.527 seconds\n",
      "Near non-invertible roots for order (0, 1, 1)(1, 1, 1, 7); setting score to inf (at least one inverse root too close to the border of the unit circle: 1.000)\n",
      "Fit ARIMA(1,1,0)x(1,1,1,7) [intercept=True]; AIC=27238.408, BIC=27266.049, Time=1.859 seconds\n",
      "Near non-invertible roots for order (1, 1, 0)(1, 1, 1, 7); setting score to inf (at least one inverse root too close to the border of the unit circle: 1.000)\n",
      "Fit ARIMA(2,1,1)x(1,1,1,7) [intercept=True]; AIC=27037.793, BIC=27076.492, Time=5.530 seconds\n",
      "Near non-invertible roots for order (2, 1, 1)(1, 1, 1, 7); setting score to inf (at least one inverse root too close to the border of the unit circle: 1.000)\n",
      "Fit ARIMA(1,1,2)x(1,1,1,7) [intercept=True]; AIC=27038.415, BIC=27077.113, Time=4.829 seconds\n",
      "Near non-invertible roots for order (1, 1, 2)(1, 1, 1, 7); setting score to inf (at least one inverse root too close to the border of the unit circle: 1.000)\n",
      "Fit ARIMA(0,1,0)x(1,1,1,7) [intercept=True]; AIC=27236.838, BIC=27258.951, Time=1.612 seconds\n",
      "Near non-invertible roots for order (0, 1, 0)(1, 1, 1, 7); setting score to inf (at least one inverse root too close to the border of the unit circle: 1.000)\n",
      "Fit ARIMA(0,1,2)x(1,1,1,7) [intercept=True]; AIC=27133.888, BIC=27167.058, Time=3.286 seconds\n",
      "Near non-invertible roots for order (0, 1, 2)(1, 1, 1, 7); setting score to inf (at least one inverse root too close to the border of the unit circle: 1.000)\n",
      "Fit ARIMA(2,1,0)x(1,1,1,7) [intercept=True]; AIC=27163.466, BIC=27196.636, Time=5.298 seconds\n",
      "Near non-invertible roots for order (2, 1, 0)(1, 1, 1, 7); setting score to inf (at least one inverse root too close to the border of the unit circle: 0.998)\n",
      "Fit ARIMA(2,1,2)x(1,1,1,7) [intercept=True]; AIC=27115.239, BIC=27159.465, Time=8.235 seconds\n",
      "Near non-invertible roots for order (2, 1, 2)(1, 1, 1, 7); setting score to inf (at least one inverse root too close to the border of the unit circle: 1.000)\n",
      "Total fit time: 93.581 seconds\n"
     ]
    }
   ],
   "source": [
    "#Pyramid Search for SARIMA Paramaters\n",
    "Sarima_model=auto_arima(train, start_p=1, start_q=1, max_p=5, max_q=5, start_P=1, start_Q=1, max_P=5, max_Q=5, m=7, seasonal=True, trace=True, d=1, D=1, error_action='warn', suppress_warnings=True, random_state = 20, n_fits=5)"
   ]
  },
  {
   "cell_type": "code",
   "execution_count": 13,
   "metadata": {},
   "outputs": [
    {
     "name": "stdout",
     "output_type": "stream",
     "text": [
      "ARIMA(order=(5, 1, 3), suppress_warnings=True)\n",
      "AIC:  27466.984309787178\n",
      "BIC:  27522.305191222596\n"
     ]
    }
   ],
   "source": [
    "print(Arima_model)\n",
    "print('AIC: ', Arima_model.aic())\n",
    "print('BIC: ', Arima_model.bic())"
   ]
  },
  {
   "cell_type": "code",
   "execution_count": 14,
   "metadata": {},
   "outputs": [
    {
     "name": "stdout",
     "output_type": "stream",
     "text": [
      "ARIMA(order=(2, 1, 1), seasonal_order=(1, 1, 1, 7), suppress_warnings=True)\n",
      "AIC:  27037.793278532034\n",
      "BIC:  27076.491600898986\n"
     ]
    }
   ],
   "source": [
    "print(Sarima_model)\n",
    "print('AIC: ', Sarima_model.aic())\n",
    "print('BIC: ', Sarima_model.bic())"
   ]
  },
  {
   "cell_type": "code",
   "execution_count": 15,
   "metadata": {},
   "outputs": [],
   "source": [
    "# Fit the models\n",
    "ARIMA = sm.tsa.statespace.SARIMAX(train, order=(5,1,3)).fit()\n",
    "SARIMA = sm.tsa.statespace.SARIMAX(train, order=(2,1,1), seasonal_order=(1,1,1,7)).fit()\n",
    "SARIMAX = sm.tsa.statespace.SARIMAX(train,order=(2,1,1), seasonal_order=(1,1,1,7), exog = exog_train, freq='D').fit()"
   ]
  },
  {
   "cell_type": "code",
   "execution_count": null,
   "metadata": {},
   "outputs": [],
   "source": [
    "print(ARIMA.summary())"
   ]
  },
  {
   "cell_type": "code",
   "execution_count": null,
   "metadata": {},
   "outputs": [],
   "source": [
    "print(SARIMA.summary())"
   ]
  },
  {
   "cell_type": "code",
   "execution_count": null,
   "metadata": {},
   "outputs": [],
   "source": [
    "print(SARIMAX.summary())"
   ]
  },
  {
   "cell_type": "code",
   "execution_count": null,
   "metadata": {},
   "outputs": [],
   "source": [
    "# ARIMA_res = ARIMA.resid\n",
    "# fig,ax = plt.subplots(2,1,figsize=(15,8))\n",
    "# fig = sm.graphics.tsa.plot_acf(ARIMA_res, lags=50, ax=ax[0])\n",
    "# fig = sm.graphics.tsa.plot_pacf(ARIMA_res, lags=50, ax=ax[1])\n",
    "# plt.show()"
   ]
  },
  {
   "cell_type": "code",
   "execution_count": null,
   "metadata": {},
   "outputs": [],
   "source": [
    "# SARIMA_Res = SARIMA.resid\n",
    "# fig,ax = plt.subplots(2,1,figsize=(15,8))\n",
    "# fig = sm.graphics.tsa.plot_acf(SARIMA_Res, lags=50, ax=ax[0])\n",
    "# fig = sm.graphics.tsa.plot_pacf(SARIMA_Res, lags=50, ax=ax[1])\n",
    "# plt.show()"
   ]
  },
  {
   "cell_type": "code",
   "execution_count": null,
   "metadata": {},
   "outputs": [],
   "source": [
    "# SARIMAX_Res = SARIMAX.resid\n",
    "# fig,ax = plt.subplots(2,1,figsize=(15,8))\n",
    "# fig = sm.graphics.tsa.plot_acf(SARIMAX_Res, lags=50, ax=ax[0])\n",
    "# fig = sm.graphics.tsa.plot_pacf(SARIMAX_Res, lags=50, ax=ax[1])\n",
    "# plt.show()"
   ]
  },
  {
   "cell_type": "code",
   "execution_count": null,
   "metadata": {},
   "outputs": [],
   "source": [
    "# ARIMA.plot_diagnostics(figsize=(20,10));"
   ]
  },
  {
   "cell_type": "code",
   "execution_count": null,
   "metadata": {},
   "outputs": [],
   "source": [
    "# SARIMA.plot_diagnostics(figsize=(20,10));"
   ]
  },
  {
   "cell_type": "code",
   "execution_count": null,
   "metadata": {},
   "outputs": [],
   "source": [
    "# SARIMAX.plot_diagnostics(figsize=(20,10));"
   ]
  },
  {
   "cell_type": "code",
   "execution_count": 16,
   "metadata": {},
   "outputs": [],
   "source": [
    "# Store predictions for each model\n",
    "arima_pred = ARIMA.predict(train_end,test_end)[1:]\n",
    "sarima_pred = SARIMA.predict(train_end,test_end)[1:]\n",
    "sarimax_pred = SARIMAX.predict(train_end,test_end, exog = exog_test)[1:]"
   ]
  },
  {
   "cell_type": "code",
   "execution_count": 17,
   "metadata": {},
   "outputs": [
    {
     "name": "stdout",
     "output_type": "stream",
     "text": [
      "ARIMA (5,1,3)\n",
      "------------------------\n",
      "RMSE:243.1332497161505\n",
      "r2:0.08681594426923256\n",
      "MAE:196.10609344582295\n"
     ]
    }
   ],
   "source": [
    "print('ARIMA (5,1,3)\\n------------------------')\n",
    "print('RMSE:{}'.format(mean_squared_error(test,arima_pred, squared=False)))\n",
    "print('r2:{}'.format(r2_score(test,arima_pred)))\n",
    "print('MAE:{}'.format(mean_absolute_error(test,arima_pred)))"
   ]
  },
  {
   "cell_type": "code",
   "execution_count": 18,
   "metadata": {},
   "outputs": [
    {
     "name": "stdout",
     "output_type": "stream",
     "text": [
      "SARIMA (2,1,1)(1,1,1,7)\n",
      "------------------------\n",
      "RMSE:170.51583597213775\n",
      "r2:0.5508420951185651\n",
      "MAE:151.6442440180167\n"
     ]
    }
   ],
   "source": [
    "print('SARIMA (2,1,1)(1,1,1,7)\\n------------------------')\n",
    "print('RMSE:{}'.format(mean_squared_error(test,sarima_pred, squared=False)))\n",
    "print('r2:{}'.format(r2_score(test,sarima_pred)))\n",
    "print('MAE:{}'.format(mean_absolute_error(test,sarima_pred)))"
   ]
  },
  {
   "cell_type": "code",
   "execution_count": 19,
   "metadata": {},
   "outputs": [
    {
     "name": "stdout",
     "output_type": "stream",
     "text": [
      "SARIMAX (2,1,1)(1,1,1,7)\n",
      "------------------------\n",
      "RMSE:293.5794254475092\n",
      "r2:-0.3314376777126733\n",
      "MAE:234.3372458902047\n"
     ]
    }
   ],
   "source": [
    "print('SARIMAX (2,1,1)(1,1,1,7)\\n------------------------')\n",
    "print('RMSE:{}'.format(mean_squared_error(test,sarimax_pred, squared=False)))\n",
    "print('r2:{}'.format(r2_score(test,sarimax_pred)))\n",
    "print('MAE:{}'.format(mean_absolute_error(test,sarimax_pred)))"
   ]
  },
  {
   "cell_type": "code",
   "execution_count": 20,
   "metadata": {},
   "outputs": [
    {
     "data": {
      "text/html": [
       "<div>\n",
       "<style scoped>\n",
       "    .dataframe tbody tr th:only-of-type {\n",
       "        vertical-align: middle;\n",
       "    }\n",
       "\n",
       "    .dataframe tbody tr th {\n",
       "        vertical-align: top;\n",
       "    }\n",
       "\n",
       "    .dataframe thead th {\n",
       "        text-align: right;\n",
       "    }\n",
       "</style>\n",
       "<table border=\"1\" class=\"dataframe\">\n",
       "  <thead>\n",
       "    <tr style=\"text-align: right;\">\n",
       "      <th></th>\n",
       "      <th>ACTUAL</th>\n",
       "      <th>ARIMA</th>\n",
       "      <th>SARIMA</th>\n",
       "      <th>SARIMAX</th>\n",
       "    </tr>\n",
       "  </thead>\n",
       "  <tbody>\n",
       "    <tr>\n",
       "      <th>2020-04-29</th>\n",
       "      <td>4168.0</td>\n",
       "      <td>4205.670116</td>\n",
       "      <td>4352.941121</td>\n",
       "      <td>3702.838127</td>\n",
       "    </tr>\n",
       "    <tr>\n",
       "      <th>2020-04-30</th>\n",
       "      <td>4585.0</td>\n",
       "      <td>4309.440845</td>\n",
       "      <td>4330.716375</td>\n",
       "      <td>4512.953169</td>\n",
       "    </tr>\n",
       "    <tr>\n",
       "      <th>2020-05-01</th>\n",
       "      <td>4057.0</td>\n",
       "      <td>4308.364663</td>\n",
       "      <td>4231.553777</td>\n",
       "      <td>4039.766063</td>\n",
       "    </tr>\n",
       "    <tr>\n",
       "      <th>2020-05-02</th>\n",
       "      <td>3664.0</td>\n",
       "      <td>4061.763633</td>\n",
       "      <td>3738.630227</td>\n",
       "      <td>3438.903913</td>\n",
       "    </tr>\n",
       "    <tr>\n",
       "      <th>2020-05-03</th>\n",
       "      <td>3586.0</td>\n",
       "      <td>4085.919104</td>\n",
       "      <td>3748.767515</td>\n",
       "      <td>2979.089872</td>\n",
       "    </tr>\n",
       "  </tbody>\n",
       "</table>\n",
       "</div>"
      ],
      "text/plain": [
       "            ACTUAL        ARIMA       SARIMA      SARIMAX\n",
       "2020-04-29  4168.0  4205.670116  4352.941121  3702.838127\n",
       "2020-04-30  4585.0  4309.440845  4330.716375  4512.953169\n",
       "2020-05-01  4057.0  4308.364663  4231.553777  4039.766063\n",
       "2020-05-02  3664.0  4061.763633  3738.630227  3438.903913\n",
       "2020-05-03  3586.0  4085.919104  3748.767515  2979.089872"
      ]
     },
     "execution_count": 20,
     "metadata": {},
     "output_type": "execute_result"
    }
   ],
   "source": [
    "# Store all results in dataframe\n",
    "results = pd.DataFrame({'ACTUAL':test,'ARIMA':arima_pred, 'SARIMA':sarima_pred, 'SARIMAX':sarimax_pred})\n",
    "results.head()"
   ]
  },
  {
   "cell_type": "code",
   "execution_count": 21,
   "metadata": {},
   "outputs": [
    {
     "data": {
      "text/html": [
       "<div>\n",
       "<style scoped>\n",
       "    .dataframe tbody tr th:only-of-type {\n",
       "        vertical-align: middle;\n",
       "    }\n",
       "\n",
       "    .dataframe tbody tr th {\n",
       "        vertical-align: top;\n",
       "    }\n",
       "\n",
       "    .dataframe thead th {\n",
       "        text-align: right;\n",
       "    }\n",
       "</style>\n",
       "<table border=\"1\" class=\"dataframe\">\n",
       "  <thead>\n",
       "    <tr style=\"text-align: right;\">\n",
       "      <th></th>\n",
       "      <th>ACTUAL</th>\n",
       "      <th>ARIMA</th>\n",
       "      <th>SARIMA</th>\n",
       "      <th>SARIMAX</th>\n",
       "      <th>ARIMA_LOGERROR</th>\n",
       "      <th>SARIMA_LOGERROR</th>\n",
       "      <th>SARIMAX_LOGERROR</th>\n",
       "      <th>ARIMA_ERROR</th>\n",
       "      <th>SARIMA_ERROR</th>\n",
       "      <th>SARIMAX_ERROR</th>\n",
       "      <th>ARIMA_SQRERROR</th>\n",
       "      <th>SARIMA_SQRERROR</th>\n",
       "      <th>SARIMAX_SQRERROR</th>\n",
       "    </tr>\n",
       "  </thead>\n",
       "  <tbody>\n",
       "    <tr>\n",
       "      <th>2020-04-29</th>\n",
       "      <td>4168.0</td>\n",
       "      <td>4205.670116</td>\n",
       "      <td>4352.941121</td>\n",
       "      <td>3702.838127</td>\n",
       "      <td>3.628867</td>\n",
       "      <td>5.220038</td>\n",
       "      <td>6.142385</td>\n",
       "      <td>37.670116</td>\n",
       "      <td>184.941121</td>\n",
       "      <td>465.161873</td>\n",
       "      <td>1419.037652</td>\n",
       "      <td>34203.218086</td>\n",
       "      <td>216375.568330</td>\n",
       "    </tr>\n",
       "    <tr>\n",
       "      <th>2020-04-30</th>\n",
       "      <td>4585.0</td>\n",
       "      <td>4309.440845</td>\n",
       "      <td>4330.716375</td>\n",
       "      <td>4512.953169</td>\n",
       "      <td>5.618802</td>\n",
       "      <td>5.538450</td>\n",
       "      <td>4.277316</td>\n",
       "      <td>275.559155</td>\n",
       "      <td>254.283625</td>\n",
       "      <td>72.046831</td>\n",
       "      <td>75932.848155</td>\n",
       "      <td>64660.161884</td>\n",
       "      <td>5190.745807</td>\n",
       "    </tr>\n",
       "    <tr>\n",
       "      <th>2020-05-01</th>\n",
       "      <td>4057.0</td>\n",
       "      <td>4308.364663</td>\n",
       "      <td>4231.553777</td>\n",
       "      <td>4039.766063</td>\n",
       "      <td>5.526905</td>\n",
       "      <td>5.162233</td>\n",
       "      <td>2.846880</td>\n",
       "      <td>251.364663</td>\n",
       "      <td>174.553777</td>\n",
       "      <td>17.233937</td>\n",
       "      <td>63184.194039</td>\n",
       "      <td>30469.020939</td>\n",
       "      <td>297.008569</td>\n",
       "    </tr>\n",
       "    <tr>\n",
       "      <th>2020-05-02</th>\n",
       "      <td>3664.0</td>\n",
       "      <td>4061.763633</td>\n",
       "      <td>3738.630227</td>\n",
       "      <td>3438.903913</td>\n",
       "      <td>5.985858</td>\n",
       "      <td>4.312546</td>\n",
       "      <td>5.416527</td>\n",
       "      <td>397.763633</td>\n",
       "      <td>74.630227</td>\n",
       "      <td>225.096087</td>\n",
       "      <td>158215.907476</td>\n",
       "      <td>5569.670741</td>\n",
       "      <td>50668.248483</td>\n",
       "    </tr>\n",
       "    <tr>\n",
       "      <th>2020-05-03</th>\n",
       "      <td>3586.0</td>\n",
       "      <td>4085.919104</td>\n",
       "      <td>3748.767515</td>\n",
       "      <td>2979.089872</td>\n",
       "      <td>6.214446</td>\n",
       "      <td>5.092323</td>\n",
       "      <td>6.408381</td>\n",
       "      <td>499.919104</td>\n",
       "      <td>162.767515</td>\n",
       "      <td>606.910128</td>\n",
       "      <td>249919.110291</td>\n",
       "      <td>26493.263968</td>\n",
       "      <td>368339.902890</td>\n",
       "    </tr>\n",
       "  </tbody>\n",
       "</table>\n",
       "</div>"
      ],
      "text/plain": [
       "            ACTUAL        ARIMA       SARIMA      SARIMAX  ARIMA_LOGERROR  \\\n",
       "2020-04-29  4168.0  4205.670116  4352.941121  3702.838127        3.628867   \n",
       "2020-04-30  4585.0  4309.440845  4330.716375  4512.953169        5.618802   \n",
       "2020-05-01  4057.0  4308.364663  4231.553777  4039.766063        5.526905   \n",
       "2020-05-02  3664.0  4061.763633  3738.630227  3438.903913        5.985858   \n",
       "2020-05-03  3586.0  4085.919104  3748.767515  2979.089872        6.214446   \n",
       "\n",
       "            SARIMA_LOGERROR  SARIMAX_LOGERROR  ARIMA_ERROR  SARIMA_ERROR  \\\n",
       "2020-04-29         5.220038          6.142385    37.670116    184.941121   \n",
       "2020-04-30         5.538450          4.277316   275.559155    254.283625   \n",
       "2020-05-01         5.162233          2.846880   251.364663    174.553777   \n",
       "2020-05-02         4.312546          5.416527   397.763633     74.630227   \n",
       "2020-05-03         5.092323          6.408381   499.919104    162.767515   \n",
       "\n",
       "            SARIMAX_ERROR  ARIMA_SQRERROR  SARIMA_SQRERROR  SARIMAX_SQRERROR  \n",
       "2020-04-29     465.161873     1419.037652     34203.218086     216375.568330  \n",
       "2020-04-30      72.046831    75932.848155     64660.161884       5190.745807  \n",
       "2020-05-01      17.233937    63184.194039     30469.020939        297.008569  \n",
       "2020-05-02     225.096087   158215.907476      5569.670741      50668.248483  \n",
       "2020-05-03     606.910128   249919.110291     26493.263968     368339.902890  "
      ]
     },
     "execution_count": 21,
     "metadata": {},
     "output_type": "execute_result"
    }
   ],
   "source": [
    "# Store log error\n",
    "results['ARIMA_LOGERROR'] = np.log(abs(results[\"ARIMA\"] - results['ACTUAL']))\n",
    "results['SARIMA_LOGERROR'] = np.log(abs(results[\"SARIMA\"] - results['ACTUAL']))\n",
    "results['SARIMAX_LOGERROR'] = np.log(abs(results[\"SARIMAX\"] - results['ACTUAL']))\n",
    "\n",
    "# Store error\n",
    "results['ARIMA_ERROR'] = abs(results[\"ARIMA\"] - results['ACTUAL'])\n",
    "results['SARIMA_ERROR'] = abs(results[\"SARIMA\"] - results['ACTUAL'])\n",
    "results['SARIMAX_ERROR'] = abs(results[\"SARIMAX\"] - results['ACTUAL'])\n",
    "\n",
    "# Store squared error\n",
    "results['ARIMA_SQRERROR'] = (results[\"ARIMA\"] - results['ACTUAL'])**2\n",
    "results['SARIMA_SQRERROR'] = (results[\"SARIMA\"] - results['ACTUAL'])**2\n",
    "results['SARIMAX_SQRERROR'] = (results[\"SARIMAX\"] - results['ACTUAL'])**2\n",
    "\n",
    "results.head()"
   ]
  },
  {
   "cell_type": "code",
   "execution_count": 22,
   "metadata": {},
   "outputs": [
    {
     "data": {
      "image/png": "[encoded data removed]",
      "text/plain": [
       "<Figure size 720x432 with 1 Axes>"
      ]
     },
     "metadata": {
      "needs_background": "light"
     },
     "output_type": "display_data"
    }
   ],
   "source": [
    "# Plot predictions\n",
    "plt.figure(figsize=(10,6))\n",
    "plt.plot(results.ACTUAL, label = \"Actual\",  color = 'black', linestyle='solid')\n",
    "plt.plot(results.ARIMA, label = \"ARIMA\",  color = 'black', linestyle='dashed')\n",
    "plt.plot(results.SARIMA, label = \"SARIMA\",  color = 'black', linestyle='dotted')\n",
    "plt.plot(results.SARIMAX, label = \"SARIMAX\",  color = 'black', linestyle='dashdot')\n",
    "plt.title('Model Predictions of Power Consumption')\n",
    "plt.ylabel('Power Consumption')\n",
    "plt.xlabel('Date')\n",
    "plt.grid(False)\n",
    "plt.legend()\n",
    "\n",
    "plt.savefig(\"Preds.png\")\n",
    "\n",
    "plt.show()"
   ]
  },
  {
   "cell_type": "code",
   "execution_count": null,
   "metadata": {},
   "outputs": [],
   "source": [
    "# Plot SARIMA predictions\n",
    "plt.figure(figsize=(10,6))\n",
    "plt.plot(results.ACTUAL, label = \"Actual\",  color = 'black', linestyle='solid')\n",
    "plt.plot(results.ARIMA, label = \"Prediction\",  color = 'black', linestyle='dashed')\n",
    "plt.title('ARIMA Predictions')\n",
    "plt.ylabel('Power Consumption')\n",
    "plt.xlabel('Date')\n",
    "plt.grid(False)\n",
    "plt.legend()\n",
    "\n",
    "plt.show()"
   ]
  },
  {
   "cell_type": "code",
   "execution_count": null,
   "metadata": {},
   "outputs": [],
   "source": [
    "# Plot SARIMA predictions\n",
    "plt.figure(figsize=(10,6))\n",
    "plt.plot(results.ACTUAL, label = \"Actual\",  color = 'black', linestyle='solid')\n",
    "plt.plot(results.SARIMA, label = \"Prediction\",  color = 'black', linestyle='dashed')\n",
    "plt.title('SARIMA Predictions')\n",
    "plt.ylabel('Power Consumption')\n",
    "plt.xlabel('Date')\n",
    "plt.grid(False)\n",
    "plt.legend()\n",
    "\n",
    "plt.show()"
   ]
  },
  {
   "cell_type": "code",
   "execution_count": null,
   "metadata": {},
   "outputs": [],
   "source": [
    "# Plot SARIMAX predictions\n",
    "plt.figure(figsize=(10,6))\n",
    "plt.plot(results.ACTUAL, label = \"Actual\",  color = 'black', linestyle='solid')\n",
    "plt.plot(results.SARIMAX, label = \"Prediction\",  color = 'black', linestyle='dashed')\n",
    "plt.title('SARIMAX Predictions')\n",
    "plt.ylabel('Power Consumption')\n",
    "plt.xlabel('Date')\n",
    "plt.grid(False)\n",
    "plt.legend()\n",
    "\n",
    "plt.show()"
   ]
  },
  {
   "cell_type": "code",
   "execution_count": null,
   "metadata": {},
   "outputs": [],
   "source": [
    "# Plot predictions\n",
    "plt.figure(figsize=(10,6))\n",
    "plt.plot(results.ARIMA_LOGERROR, label = \"ARIMA\",  color = 'black', linestyle='dashed')\n",
    "plt.plot(results.SARIMA_LOGERROR, label = \"SARIMA\",  color = 'black', linestyle='dotted')\n",
    "plt.plot(results.SARIMAX_LOGERROR, label = \"SARIMAX\",  color = 'black', linestyle='dashdot')\n",
    "plt.title('Model Log Errors of Predictions')\n",
    "plt.ylabel('Log Error')\n",
    "plt.xlabel('Date')\n",
    "plt.grid(False)\n",
    "plt.legend()\n",
    "\n",
    "plt.show()"
   ]
  },
  {
   "cell_type": "code",
   "execution_count": null,
   "metadata": {},
   "outputs": [],
   "source": [
    "# results[['ARIMA_SQRERROR','SARIMA_SQRERROR','SARIMAX_SQRERROR']].plot()"
   ]
  },
  {
   "cell_type": "code",
   "execution_count": null,
   "metadata": {},
   "outputs": [],
   "source": [
    "# results[['ARIMA_ERROR','SARIMA_ERROR','SARIMAX_ERROR']].plot()"
   ]
  },
  {
   "cell_type": "code",
   "execution_count": null,
   "metadata": {},
   "outputs": [],
   "source": [
    "SARIMA_Largest = results.nlargest(10,['SARIMA_SQRERROR']).index\n",
    "SARIMAX_Largest = results.nlargest(10,['ARIMA_SQRERROR']).index\n",
    "ARIMA_Largest = results.nlargest(10,['SARIMAX_SQRERROR']).index"
   ]
  },
  {
   "cell_type": "code",
   "execution_count": null,
   "metadata": {},
   "outputs": [],
   "source": [
    "# results.nlargest(10,['SARIMA_SQRERROR'])"
   ]
  },
  {
   "cell_type": "code",
   "execution_count": null,
   "metadata": {},
   "outputs": [],
   "source": [
    "# results.nlargest(10,['SARIMAX_SQRERROR'])"
   ]
  },
  {
   "cell_type": "code",
   "execution_count": null,
   "metadata": {},
   "outputs": [],
   "source": [
    "# results.nlargest(10,['ARIMA_SQRERROR'])"
   ]
  },
  {
   "cell_type": "code",
   "execution_count": 23,
   "metadata": {},
   "outputs": [
    {
     "name": "stdout",
     "output_type": "stream",
     "text": [
      "SARIMA (2,1,1)(1,1,1,7)\n",
      "------------------------\n",
      "RMSE:308.5506625743083\n",
      "r2:0.058112332260146116\n",
      "MAE:270.4275431765505\n"
     ]
    }
   ],
   "source": [
    "final_pred = SARIMA.predict(preds_start,preds_end)\n",
    "print('SARIMA (2,1,1)(1,1,1,7)\\n------------------------')\n",
    "print('RMSE:{}'.format(mean_squared_error(preds,final_pred, squared=False)))\n",
    "print('r2:{}'.format(r2_score(preds,final_pred)))\n",
    "print('MAE:{}'.format(mean_absolute_error(preds,final_pred)))"
   ]
  },
  {
   "cell_type": "code",
   "execution_count": 24,
   "metadata": {},
   "outputs": [
    {
     "data": {
      "text/html": [
       "<div>\n",
       "<style scoped>\n",
       "    .dataframe tbody tr th:only-of-type {\n",
       "        vertical-align: middle;\n",
       "    }\n",
       "\n",
       "    .dataframe tbody tr th {\n",
       "        vertical-align: top;\n",
       "    }\n",
       "\n",
       "    .dataframe thead th {\n",
       "        text-align: right;\n",
       "    }\n",
       "</style>\n",
       "<table border=\"1\" class=\"dataframe\">\n",
       "  <thead>\n",
       "    <tr style=\"text-align: right;\">\n",
       "      <th></th>\n",
       "      <th>ACTUAL</th>\n",
       "      <th>SARIMA</th>\n",
       "    </tr>\n",
       "  </thead>\n",
       "  <tbody>\n",
       "    <tr>\n",
       "      <th>2020-05-13</th>\n",
       "      <td>4191.0</td>\n",
       "      <td>4365.230770</td>\n",
       "    </tr>\n",
       "    <tr>\n",
       "      <th>2020-05-14</th>\n",
       "      <td>4050.0</td>\n",
       "      <td>4332.059421</td>\n",
       "    </tr>\n",
       "    <tr>\n",
       "      <th>2020-05-15</th>\n",
       "      <td>3954.0</td>\n",
       "      <td>4227.969847</td>\n",
       "    </tr>\n",
       "    <tr>\n",
       "      <th>2020-05-16</th>\n",
       "      <td>3617.0</td>\n",
       "      <td>3738.690708</td>\n",
       "    </tr>\n",
       "    <tr>\n",
       "      <th>2020-05-17</th>\n",
       "      <td>3541.0</td>\n",
       "      <td>3734.077845</td>\n",
       "    </tr>\n",
       "    <tr>\n",
       "      <th>2020-05-18</th>\n",
       "      <td>3964.0</td>\n",
       "      <td>4312.846999</td>\n",
       "    </tr>\n",
       "    <tr>\n",
       "      <th>2020-05-19</th>\n",
       "      <td>4044.0</td>\n",
       "      <td>4354.720692</td>\n",
       "    </tr>\n",
       "    <tr>\n",
       "      <th>2020-05-20</th>\n",
       "      <td>4009.0</td>\n",
       "      <td>4360.808330</td>\n",
       "    </tr>\n",
       "    <tr>\n",
       "      <th>2020-05-21</th>\n",
       "      <td>4008.0</td>\n",
       "      <td>4327.608843</td>\n",
       "    </tr>\n",
       "    <tr>\n",
       "      <th>2020-05-22</th>\n",
       "      <td>4173.0</td>\n",
       "      <td>4223.507295</td>\n",
       "    </tr>\n",
       "    <tr>\n",
       "      <th>2020-05-23</th>\n",
       "      <td>3861.0</td>\n",
       "      <td>3734.238855</td>\n",
       "    </tr>\n",
       "    <tr>\n",
       "      <th>2020-05-24</th>\n",
       "      <td>3604.0</td>\n",
       "      <td>3729.586330</td>\n",
       "    </tr>\n",
       "    <tr>\n",
       "      <th>2020-05-25</th>\n",
       "      <td>3708.0</td>\n",
       "      <td>4308.366186</td>\n",
       "    </tr>\n",
       "    <tr>\n",
       "      <th>2020-05-26</th>\n",
       "      <td>4857.0</td>\n",
       "      <td>4350.248806</td>\n",
       "    </tr>\n",
       "  </tbody>\n",
       "</table>\n",
       "</div>"
      ],
      "text/plain": [
       "            ACTUAL       SARIMA\n",
       "2020-05-13  4191.0  4365.230770\n",
       "2020-05-14  4050.0  4332.059421\n",
       "2020-05-15  3954.0  4227.969847\n",
       "2020-05-16  3617.0  3738.690708\n",
       "2020-05-17  3541.0  3734.077845\n",
       "2020-05-18  3964.0  4312.846999\n",
       "2020-05-19  4044.0  4354.720692\n",
       "2020-05-20  4009.0  4360.808330\n",
       "2020-05-21  4008.0  4327.608843\n",
       "2020-05-22  4173.0  4223.507295\n",
       "2020-05-23  3861.0  3734.238855\n",
       "2020-05-24  3604.0  3729.586330\n",
       "2020-05-25  3708.0  4308.366186\n",
       "2020-05-26  4857.0  4350.248806"
      ]
     },
     "execution_count": 24,
     "metadata": {},
     "output_type": "execute_result"
    }
   ],
   "source": [
    "final_results = pd.DataFrame({'ACTUAL':preds,'SARIMA':final_pred})\n",
    "final_results"
   ]
  },
  {
   "cell_type": "code",
   "execution_count": 26,
   "metadata": {},
   "outputs": [
    {
     "data": {
      "image/png": "[encoded data removed]",
      "text/plain": [
       "<Figure size 720x432 with 1 Axes>"
      ]
     },
     "metadata": {
      "needs_background": "light"
     },
     "output_type": "display_data"
    }
   ],
   "source": [
    "# Plot SARIMA predictions\n",
    "plt.figure(figsize=(10,6))\n",
    "plt.plot(final_results.ACTUAL, label = \"Actual\",  color = 'black', linestyle='solid')\n",
    "plt.plot(final_results.SARIMA, label = \"Prediction\",  color = 'black', linestyle='dashed')\n",
    "plt.title('SARIMA Predictions')\n",
    "plt.ylabel('Power Consumption')\n",
    "plt.xlabel('Date')\n",
    "plt.grid(False)\n",
    "plt.legend()\n",
    "\n",
    "plt.savefig(\"forecast.png\")\n",
    "\n",
    "plt.show()"
   ]
  }
 ],
 "metadata": {
  "kernelspec": {
   "display_name": "Python 3",
   "language": "python",
   "name": "python3"
  },
  "language_info": {
   "codemirror_mode": {
    "name": "ipython",
    "version": 3
   },
   "file_extension": ".py",
   "mimetype": "text/x-python",
   "name": "python",
   "nbconvert_exporter": "python",
   "pygments_lexer": "ipython3",
   "version": "3.7.1"
  }
 },
 "nbformat": 4,
 "nbformat_minor": 2
}
